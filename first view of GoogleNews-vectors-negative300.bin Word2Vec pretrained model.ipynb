{
 "cells": [
  {
   "cell_type": "code",
   "execution_count": 9,
   "metadata": {},
   "outputs": [],
   "source": [
    "import numpy as np"
   ]
  },
  {
   "cell_type": "code",
   "execution_count": 3,
   "metadata": {},
   "outputs": [
    {
     "name": "stderr",
     "output_type": "stream",
     "text": [
      "c:\\users\\swei1\\appdata\\local\\programs\\python\\python36\\lib\\site-packages\\gensim\\utils.py:1197: UserWarning: detected Windows; aliasing chunkize to chunkize_serial\n",
      "  warnings.warn(\"detected Windows; aliasing chunkize to chunkize_serial\")\n"
     ]
    }
   ],
   "source": [
    "from gensim.models import KeyedVectors"
   ]
  },
  {
   "cell_type": "code",
   "execution_count": 4,
   "metadata": {},
   "outputs": [
    {
     "name": "stdout",
     "output_type": "stream",
     "text": [
      "Loading GoogleNews-vectors-negative300.bin\n"
     ]
    }
   ],
   "source": [
    "print(\"Loading GoogleNews-vectors-negative300.bin\")\n",
    "google_vecs = KeyedVectors.load_word2vec_format(\n",
    "    'GoogleNews-vectors-negative300.bin', binary=True, limit=200000)"
   ]
  },
  {
   "cell_type": "markdown",
   "metadata": {},
   "source": [
    "**some stop words is not contained**  \n",
    "such as 'and'"
   ]
  },
  {
   "cell_type": "code",
   "execution_count": 6,
   "metadata": {
    "collapsed": true
   },
   "outputs": [
    {
     "ename": "KeyError",
     "evalue": "\"word 'and' not in vocabulary\"",
     "output_type": "error",
     "traceback": [
      "\u001b[1;31m---------------------------------------------------------------------------\u001b[0m",
      "\u001b[1;31mKeyError\u001b[0m                                  Traceback (most recent call last)",
      "\u001b[1;32m<ipython-input-6-a472e099ca44>\u001b[0m in \u001b[0;36m<module>\u001b[1;34m()\u001b[0m\n\u001b[1;32m----> 1\u001b[1;33m \u001b[0mgoogle_vecs\u001b[0m\u001b[1;33m[\u001b[0m\u001b[1;34m'and'\u001b[0m\u001b[1;33m]\u001b[0m\u001b[1;33m\u001b[0m\u001b[0m\n\u001b[0m",
      "\u001b[1;32mc:\\users\\swei1\\appdata\\local\\programs\\python\\python36\\lib\\site-packages\\gensim\\models\\keyedvectors.py\u001b[0m in \u001b[0;36m__getitem__\u001b[1;34m(self, entities)\u001b[0m\n\u001b[0;32m    167\u001b[0m         \u001b[1;32mif\u001b[0m \u001b[0misinstance\u001b[0m\u001b[1;33m(\u001b[0m\u001b[0mentities\u001b[0m\u001b[1;33m,\u001b[0m \u001b[0mstring_types\u001b[0m\u001b[1;33m)\u001b[0m\u001b[1;33m:\u001b[0m\u001b[1;33m\u001b[0m\u001b[0m\n\u001b[0;32m    168\u001b[0m             \u001b[1;31m# allow calls like trained_model['office'], as a shorthand for trained_model[['office']]\u001b[0m\u001b[1;33m\u001b[0m\u001b[1;33m\u001b[0m\u001b[0m\n\u001b[1;32m--> 169\u001b[1;33m             \u001b[1;32mreturn\u001b[0m \u001b[0mself\u001b[0m\u001b[1;33m.\u001b[0m\u001b[0mget_vector\u001b[0m\u001b[1;33m(\u001b[0m\u001b[0mentities\u001b[0m\u001b[1;33m)\u001b[0m\u001b[1;33m\u001b[0m\u001b[0m\n\u001b[0m\u001b[0;32m    170\u001b[0m \u001b[1;33m\u001b[0m\u001b[0m\n\u001b[0;32m    171\u001b[0m         \u001b[1;32mreturn\u001b[0m \u001b[0mvstack\u001b[0m\u001b[1;33m(\u001b[0m\u001b[1;33m[\u001b[0m\u001b[0mself\u001b[0m\u001b[1;33m.\u001b[0m\u001b[0mget_vector\u001b[0m\u001b[1;33m(\u001b[0m\u001b[0mentity\u001b[0m\u001b[1;33m)\u001b[0m \u001b[1;32mfor\u001b[0m \u001b[0mentity\u001b[0m \u001b[1;32min\u001b[0m \u001b[0mentities\u001b[0m\u001b[1;33m]\u001b[0m\u001b[1;33m)\u001b[0m\u001b[1;33m\u001b[0m\u001b[0m\n",
      "\u001b[1;32mc:\\users\\swei1\\appdata\\local\\programs\\python\\python36\\lib\\site-packages\\gensim\\models\\keyedvectors.py\u001b[0m in \u001b[0;36mget_vector\u001b[1;34m(self, word)\u001b[0m\n\u001b[0;32m    275\u001b[0m \u001b[1;33m\u001b[0m\u001b[0m\n\u001b[0;32m    276\u001b[0m     \u001b[1;32mdef\u001b[0m \u001b[0mget_vector\u001b[0m\u001b[1;33m(\u001b[0m\u001b[0mself\u001b[0m\u001b[1;33m,\u001b[0m \u001b[0mword\u001b[0m\u001b[1;33m)\u001b[0m\u001b[1;33m:\u001b[0m\u001b[1;33m\u001b[0m\u001b[0m\n\u001b[1;32m--> 277\u001b[1;33m         \u001b[1;32mreturn\u001b[0m \u001b[0mself\u001b[0m\u001b[1;33m.\u001b[0m\u001b[0mword_vec\u001b[0m\u001b[1;33m(\u001b[0m\u001b[0mword\u001b[0m\u001b[1;33m)\u001b[0m\u001b[1;33m\u001b[0m\u001b[0m\n\u001b[0m\u001b[0;32m    278\u001b[0m \u001b[1;33m\u001b[0m\u001b[0m\n\u001b[0;32m    279\u001b[0m     \u001b[1;32mdef\u001b[0m \u001b[0mwords_closer_than\u001b[0m\u001b[1;33m(\u001b[0m\u001b[0mself\u001b[0m\u001b[1;33m,\u001b[0m \u001b[0mw1\u001b[0m\u001b[1;33m,\u001b[0m \u001b[0mw2\u001b[0m\u001b[1;33m)\u001b[0m\u001b[1;33m:\u001b[0m\u001b[1;33m\u001b[0m\u001b[0m\n",
      "\u001b[1;32mc:\\users\\swei1\\appdata\\local\\programs\\python\\python36\\lib\\site-packages\\gensim\\models\\keyedvectors.py\u001b[0m in \u001b[0;36mword_vec\u001b[1;34m(self, word, use_norm)\u001b[0m\n\u001b[0;32m    272\u001b[0m             \u001b[1;32mreturn\u001b[0m \u001b[0mresult\u001b[0m\u001b[1;33m\u001b[0m\u001b[0m\n\u001b[0;32m    273\u001b[0m         \u001b[1;32melse\u001b[0m\u001b[1;33m:\u001b[0m\u001b[1;33m\u001b[0m\u001b[0m\n\u001b[1;32m--> 274\u001b[1;33m             \u001b[1;32mraise\u001b[0m \u001b[0mKeyError\u001b[0m\u001b[1;33m(\u001b[0m\u001b[1;34m\"word '%s' not in vocabulary\"\u001b[0m \u001b[1;33m%\u001b[0m \u001b[0mword\u001b[0m\u001b[1;33m)\u001b[0m\u001b[1;33m\u001b[0m\u001b[0m\n\u001b[0m\u001b[0;32m    275\u001b[0m \u001b[1;33m\u001b[0m\u001b[0m\n\u001b[0;32m    276\u001b[0m     \u001b[1;32mdef\u001b[0m \u001b[0mget_vector\u001b[0m\u001b[1;33m(\u001b[0m\u001b[0mself\u001b[0m\u001b[1;33m,\u001b[0m \u001b[0mword\u001b[0m\u001b[1;33m)\u001b[0m\u001b[1;33m:\u001b[0m\u001b[1;33m\u001b[0m\u001b[0m\n",
      "\u001b[1;31mKeyError\u001b[0m: \"word 'and' not in vocabulary\""
     ]
    }
   ],
   "source": [
    "# error\n",
    "google_vecs['and']"
   ]
  },
  {
   "cell_type": "markdown",
   "metadata": {},
   "source": [
    "**While some does**  \n",
    "such as 'with'"
   ]
  },
  {
   "cell_type": "code",
   "execution_count": 8,
   "metadata": {
    "collapsed": true
   },
   "outputs": [
    {
     "data": {
      "text/plain": [
       "array([-0.02490234,  0.02197266, -0.03540039,  0.13671875,  0.01635742,\n",
       "       -0.0279541 , -0.02429199, -0.13964844,  0.05737305,  0.06225586,\n",
       "       -0.11767578, -0.09716797, -0.17480469, -0.02062988, -0.11914062,\n",
       "        0.09912109,  0.06030273,  0.140625  , -0.06298828, -0.04882812,\n",
       "       -0.04541016,  0.03417969,  0.0112915 , -0.04516602,  0.1953125 ,\n",
       "       -0.03833008, -0.13183594,  0.06347656, -0.01879883,  0.1328125 ,\n",
       "        0.05712891,  0.0222168 , -0.046875  ,  0.09082031, -0.17578125,\n",
       "        0.0246582 , -0.04858398,  0.00552368,  0.05493164,  0.01202393,\n",
       "        0.12060547,  0.02978516, -0.15917969,  0.09472656, -0.05444336,\n",
       "        0.01068115,  0.11328125, -0.04052734,  0.24121094,  0.12792969,\n",
       "       -0.01501465,  0.04492188, -0.12792969, -0.09130859,  0.13964844,\n",
       "        0.15429688, -0.08154297,  0.01647949,  0.03808594, -0.14160156,\n",
       "        0.00579834,  0.06835938, -0.16992188, -0.10400391, -0.09667969,\n",
       "        0.10595703, -0.0255127 ,  0.06079102, -0.14160156,  0.17871094,\n",
       "        0.09375   ,  0.13574219, -0.02294922,  0.05908203,  0.05102539,\n",
       "       -0.15625   ,  0.140625  ,  0.24414062,  0.0534668 ,  0.19433594,\n",
       "        0.04223633, -0.12451172, -0.00772095, -0.03857422,  0.12207031,\n",
       "       -0.1796875 , -0.25585938, -0.01977539, -0.07373047,  0.15039062,\n",
       "       -0.01257324,  0.06933594, -0.01416016, -0.04541016, -0.08007812,\n",
       "       -0.09765625,  0.0559082 ,  0.01831055, -0.09375   ,  0.16503906,\n",
       "        0.06494141, -0.20800781, -0.140625  ,  0.02368164,  0.02026367,\n",
       "        0.06005859,  0.07470703, -0.03686523,  0.02648926, -0.00248718,\n",
       "        0.00372314,  0.07666016, -0.04663086, -0.08105469, -0.03564453,\n",
       "        0.19921875,  0.15332031,  0.07421875,  0.03979492,  0.06347656,\n",
       "       -0.10644531, -0.0390625 , -0.11132812, -0.02160645, -0.05541992,\n",
       "       -0.09033203, -0.00393677, -0.11376953,  0.12402344,  0.12255859,\n",
       "        0.0546875 , -0.07275391, -0.17871094,  0.07128906, -0.06689453,\n",
       "        0.03063965, -0.00775146,  0.0390625 ,  0.04321289, -0.05200195,\n",
       "       -0.02478027,  0.20410156, -0.06787109,  0.03637695,  0.06591797,\n",
       "        0.03100586,  0.00848389, -0.1953125 , -0.0025177 ,  0.18457031,\n",
       "        0.14355469,  0.08056641, -0.01226807,  0.07080078, -0.03112793,\n",
       "       -0.02124023, -0.12695312, -0.18457031,  0.0246582 ,  0.08691406,\n",
       "       -0.00482178,  0.109375  , -0.0559082 ,  0.19628906,  0.05712891,\n",
       "        0.10595703,  0.07861328, -0.09423828, -0.08886719, -0.078125  ,\n",
       "       -0.18945312,  0.00628662,  0.01159668, -0.05834961, -0.11962891,\n",
       "       -0.09667969, -0.00631714,  0.07470703, -0.07910156,  0.10546875,\n",
       "        0.03112793, -0.01483154,  0.06884766,  0.03295898, -0.12304688,\n",
       "       -0.05371094, -0.00915527, -0.05712891,  0.06982422, -0.06445312,\n",
       "       -0.00121307, -0.05004883, -0.06152344, -0.06103516, -0.00610352,\n",
       "       -0.01281738, -0.13378906,  0.00772095, -0.14257812, -0.18164062,\n",
       "        0.03491211,  0.06347656, -0.03198242, -0.09375   ,  0.03088379,\n",
       "       -0.06738281, -0.04711914, -0.04833984,  0.11669922,  0.01361084,\n",
       "       -0.02905273, -0.11962891,  0.03808594,  0.09326172, -0.00537109,\n",
       "        0.00257874,  0.04394531,  0.19921875, -0.14453125,  0.01147461,\n",
       "        0.00241089,  0.10107422,  0.08447266,  0.00952148, -0.0534668 ,\n",
       "       -0.01953125, -0.03930664, -0.05566406,  0.18554688,  0.01696777,\n",
       "        0.09326172, -0.04833984,  0.02539062,  0.0234375 , -0.02990723,\n",
       "       -0.04052734,  0.0088501 ,  0.09228516,  0.02429199,  0.02416992,\n",
       "       -0.16113281,  0.15820312,  0.03295898, -0.06176758,  0.07617188,\n",
       "        0.08886719,  0.20117188,  0.07080078, -0.07910156,  0.0559082 ,\n",
       "        0.00436401,  0.01489258,  0.17675781, -0.00765991, -0.02880859,\n",
       "       -0.06689453,  0.08154297, -0.01074219, -0.08349609,  0.10595703,\n",
       "        0.03881836,  0.03833008, -0.03149414,  0.04931641,  0.02380371,\n",
       "        0.078125  ,  0.01239014, -0.03222656,  0.06542969,  0.05834961,\n",
       "        0.13769531, -0.03198242, -0.05639648, -0.07177734,  0.08544922,\n",
       "        0.02819824,  0.00201416, -0.07080078,  0.03466797, -0.04003906,\n",
       "       -0.03125   ,  0.08935547, -0.0402832 ,  0.04589844,  0.10986328,\n",
       "        0.08056641, -0.08789062, -0.03320312,  0.04907227,  0.01397705,\n",
       "       -0.02075195,  0.00308228, -0.13867188, -0.02441406, -0.09326172,\n",
       "       -0.04760742, -0.07568359,  0.01080322, -0.01879883, -0.06884766],\n",
       "      dtype=float32)"
      ]
     },
     "execution_count": 8,
     "metadata": {},
     "output_type": "execute_result"
    }
   ],
   "source": [
    "google_vecs['with']"
   ]
  },
  {
   "cell_type": "code",
   "execution_count": null,
   "metadata": {},
   "outputs": [],
   "source": []
  },
  {
   "cell_type": "code",
   "execution_count": 10,
   "metadata": {},
   "outputs": [
    {
     "data": {
      "text/plain": [
       "-0.014880142"
      ]
     },
     "execution_count": 10,
     "metadata": {},
     "output_type": "execute_result"
    }
   ],
   "source": [
    "np.mean(google_vecs['IS'] - google_vecs['is'])"
   ]
  },
  {
   "cell_type": "code",
   "execution_count": 12,
   "metadata": {},
   "outputs": [
    {
     "data": {
      "text/plain": [
       "-0.009143384"
      ]
     },
     "execution_count": 12,
     "metadata": {},
     "output_type": "execute_result"
    }
   ],
   "source": [
    "np.mean(google_vecs['Simple'] - google_vecs['simple'])"
   ]
  },
  {
   "cell_type": "markdown",
   "metadata": {},
   "source": [
    "different vectors for different morphemes,"
   ]
  },
  {
   "cell_type": "code",
   "execution_count": 13,
   "metadata": {},
   "outputs": [
    {
     "data": {
      "text/plain": [
       "0.0056719333"
      ]
     },
     "execution_count": 13,
     "metadata": {},
     "output_type": "execute_result"
    }
   ],
   "source": [
    "np.mean(google_vecs['vectors'] - google_vecs['vector'])"
   ]
  },
  {
   "cell_type": "markdown",
   "metadata": {},
   "source": [
    "# special tokens"
   ]
  },
  {
   "cell_type": "code",
   "execution_count": null,
   "metadata": {},
   "outputs": [],
   "source": []
  },
  {
   "cell_type": "markdown",
   "metadata": {},
   "source": [
    "# Deal with acronym"
   ]
  },
  {
   "cell_type": "markdown",
   "metadata": {},
   "source": [
    "## embedding by each character"
   ]
  },
  {
   "cell_type": "code",
   "execution_count": null,
   "metadata": {},
   "outputs": [],
   "source": []
  },
  {
   "cell_type": "markdown",
   "metadata": {},
   "source": [
    "## choosing hyperball of radius 0.25 "
   ]
  },
  {
   "cell_type": "markdown",
   "metadata": {},
   "source": [
    "https://groups.google.com/forum/#!topic/word2vec-toolkit/J3Skqbe3VwQ"
   ]
  },
  {
   "cell_type": "code",
   "execution_count": null,
   "metadata": {},
   "outputs": [],
   "source": []
  },
  {
   "cell_type": "markdown",
   "metadata": {},
   "source": [
    "The recommended text pre-processing is to keep one sentence / paragraph per line, and possibly discard punctuation and special symbols, while depends on applications"
   ]
  },
  {
   "cell_type": "code",
   "execution_count": null,
   "metadata": {},
   "outputs": [],
   "source": []
  }
 ],
 "metadata": {
  "kernelspec": {
   "display_name": "Python 3",
   "language": "python",
   "name": "python3"
  },
  "language_info": {
   "codemirror_mode": {
    "name": "ipython",
    "version": 3
   },
   "file_extension": ".py",
   "mimetype": "text/x-python",
   "name": "python",
   "nbconvert_exporter": "python",
   "pygments_lexer": "ipython3",
   "version": "3.6.3"
  }
 },
 "nbformat": 4,
 "nbformat_minor": 2
}
